{
 "cells": [
  {
   "cell_type": "code",
   "execution_count": 58,
   "metadata": {},
   "outputs": [],
   "source": [
    "import warnings\n",
    "import itertools\n",
    "import pandas as pd\n",
    "import numpy as np\n",
    "import statsmodels.api as sm\n",
    "import matplotlib.pyplot as plt\n",
    "from statsmodels.tsa.arima_model import ARIMA\n",
    "from statsmodels.api import tsa\n",
    "from statsmodels.graphics.tsaplots import plot_acf, plot_pacf"
   ]
  },
  {
   "cell_type": "code",
   "execution_count": 6,
   "metadata": {},
   "outputs": [
    {
     "data": {
      "text/plain": [
       "0    1996-12-31\n",
       "1    1997-12-31\n",
       "2    1998-12-31\n",
       "3    1999-12-31\n",
       "4    2000-12-31\n",
       "5    2001-12-31\n",
       "6    2002-12-31\n",
       "7    2003-12-31\n",
       "8    2004-12-31\n",
       "9    2005-12-31\n",
       "10   2006-12-31\n",
       "11   2007-12-31\n",
       "12   2008-12-31\n",
       "13   2009-12-31\n",
       "14   2010-12-31\n",
       "15   2011-12-31\n",
       "16   2012-12-31\n",
       "17   2013-12-31\n",
       "18   2014-12-31\n",
       "19   2015-12-31\n",
       "20   2016-12-31\n",
       "dtype: datetime64[ns]"
      ]
     },
     "execution_count": 6,
     "metadata": {},
     "output_type": "execute_result"
    }
   ],
   "source": [
    "#建立時間index\n",
    "rng = pd.Series(pd.date_range('1996', periods=21, freq='Y'))#.dt.year\n",
    "rng"
   ]
  },
  {
   "cell_type": "code",
   "execution_count": 7,
   "metadata": {},
   "outputs": [],
   "source": [
    "raw=r'C:\\Users\\yanghch\\Google 雲端硬碟\\INER\\TFP\\TFP_DATA\\DATA_T.xlsx'\n",
    "data=pd.read_excel(raw,sheet_name='NA')"
   ]
  },
  {
   "cell_type": "code",
   "execution_count": 8,
   "metadata": {},
   "outputs": [
    {
     "name": "stdout",
     "output_type": "stream",
     "text": [
      "            year        SEC2        SEC3        SEC4        SEC5        SEC6  \\\n",
      "1996-12-31  1996  127.961232  680.496987  617.368036  295.813451  122.853147   \n",
      "1997-12-31  1997   39.893890  516.178273  464.266040  223.666063  102.565946   \n",
      "1998-12-31  1998   20.354356  381.015219  329.448942  141.470660   77.525340   \n",
      "1999-12-31  1999   23.656486  414.838818  354.567369  156.588877   87.102899   \n",
      "2000-12-31  2000   59.114472  410.978753  336.732578  131.161175   82.888977   \n",
      "2001-12-31  2001  108.024855  553.849290  388.982227  139.061691  106.680398   \n",
      "2002-12-31  2002   79.623685  196.037905  174.331339   78.559836   53.907670   \n",
      "2003-12-31  2003  200.524435  167.776233  139.389694   70.752456   44.836369   \n",
      "2004-12-31  2004   63.681357  163.959637  137.688864   76.767682   52.022308   \n",
      "2005-12-31  2005  109.924006  202.491574  148.759392   94.001414   54.364719   \n",
      "2006-12-31  2006  181.726783  224.858551  164.211975  101.725092   65.448970   \n",
      "2007-12-31  2007  134.758495   88.386042   64.029932   46.721048   29.211181   \n",
      "2008-12-31  2008  176.686293  134.372068   94.542591   64.302667   37.606909   \n",
      "2009-12-31  2009  483.121178   93.572788   56.536056   45.626276   22.408384   \n",
      "2010-12-31  2010    0.000000   70.291256   48.841920   42.527683   20.547405   \n",
      "2011-12-31  2011    0.000000  116.006426   72.558022   61.138156   31.131031   \n",
      "2012-12-31  2012    0.000000  124.399133   74.979180   61.084848   33.997887   \n",
      "2013-12-31  2013    0.000000   89.336017   66.256491   51.593734   31.219894   \n",
      "2014-12-31  2014    0.000000   70.069773   46.256926   41.092572   23.442127   \n",
      "2015-12-31  2015    0.000000   69.552810   45.726698   36.333540   23.087755   \n",
      "2016-12-31  2016    0.000000   66.683640   40.830003   29.348275   22.260024   \n",
      "\n",
      "                  SEC7        SEC8        SEC9       SEC10     ...       \\\n",
      "1996-12-31  190.603906  107.284293  322.673804  413.187787     ...        \n",
      "1997-12-31  156.030557   92.660293  281.945487  329.034494     ...        \n",
      "1998-12-31  116.381269   84.154403  221.768852  238.900897     ...        \n",
      "1999-12-31  135.859450   93.043339  251.176508  286.304972     ...        \n",
      "2000-12-31  139.547593   94.510765  249.259238  283.811241     ...        \n",
      "2001-12-31  167.021120  114.471976  355.954471  364.579934     ...        \n",
      "2002-12-31   95.437194   63.176752  153.115614  171.424698     ...        \n",
      "2003-12-31   87.980145   68.510077  145.648233  147.930336     ...        \n",
      "2004-12-31   91.500699   75.910055  171.123651  160.072909     ...        \n",
      "2005-12-31  109.437082  106.167548  225.295636  203.425195     ...        \n",
      "2006-12-31  121.509753  126.802918  232.802865  237.891401     ...        \n",
      "2007-12-31   53.573416   57.570248   88.988593   98.318393     ...        \n",
      "2008-12-31   73.941468   92.772828  118.223197  140.897935     ...        \n",
      "2009-12-31   47.868401   49.242228   80.116940  106.310577     ...        \n",
      "2010-12-31   37.832317   46.861908   58.085566   83.580416     ...        \n",
      "2011-12-31   53.994256   73.843734   90.838471  119.757671     ...        \n",
      "2012-12-31   59.997115   77.936296   77.453947  142.497936     ...        \n",
      "2013-12-31   53.593356   67.270380   67.798878  128.464171     ...        \n",
      "2014-12-31   41.791218   49.603942   46.730247   81.445070     ...        \n",
      "2015-12-31   39.753422   50.091208   47.334281   86.475695     ...        \n",
      "2016-12-31   35.817662   49.009598   42.652554   79.456174     ...        \n",
      "\n",
      "                 SEC26        SEC27       SEC28        SEC29       SEC30  \\\n",
      "1996-12-31  193.565915   393.966755   67.586742   367.587318  540.945385   \n",
      "1997-12-31  154.876722   415.409297   71.496212   355.348408  433.176045   \n",
      "1998-12-31  176.063368   436.322326   84.166753   314.525980  379.279879   \n",
      "1999-12-31  151.935777   459.560424  100.952065   246.465816  348.291443   \n",
      "2000-12-31  166.405549   490.713243  115.742578   201.284916  335.888640   \n",
      "2001-12-31  261.453779   489.687804  119.373376   346.042235  321.199882   \n",
      "2002-12-31  168.103667   474.166739   69.083046   265.777490  455.629486   \n",
      "2003-12-31  200.741241   489.661029   77.259888   368.535363  121.415727   \n",
      "2004-12-31  125.549908   891.011608   90.553822   359.651577   64.213234   \n",
      "2005-12-31  175.551764   837.486927  112.233836   323.276126   55.488881   \n",
      "2006-12-31  240.069722  1026.033430  127.144244   465.874267   18.650503   \n",
      "2007-12-31  299.721985   635.956195  143.260497   843.591385   12.165438   \n",
      "2008-12-31  358.167219   766.301685  156.079964   818.925242   23.288841   \n",
      "2009-12-31  498.051517   849.161919  114.949140  1129.754346   19.201732   \n",
      "2010-12-31  222.321163  1004.342682  137.440412  1185.211790   21.689041   \n",
      "2011-12-31  394.035230  1191.454424  178.753980  1285.622660   33.769502   \n",
      "2012-12-31  347.773683  1379.766259  219.763772  1300.851320   27.647435   \n",
      "2013-12-31  316.832498  1276.466523  204.517516  1057.096909   21.150838   \n",
      "2014-12-31  221.239227  1599.455975  241.446305   980.705750   32.304620   \n",
      "2015-12-31  173.044801  1658.869715  257.300118  1017.791187   31.883162   \n",
      "2016-12-31  231.736827  1827.712789  313.349894  1100.236822   30.996981   \n",
      "\n",
      "                  SEC31        SEC32        SEC33        SEC34        SEC35  \n",
      "1996-12-31  1954.868302   552.738015  1588.411662    87.006948  9447.808577  \n",
      "1997-12-31  2031.260280   593.685873  1683.807509    86.086705  9159.323867  \n",
      "1998-12-31  2039.972893   603.095450  1788.231480    88.775921  9012.237801  \n",
      "1999-12-31  2084.245436   659.071341  1870.159805    88.917138  8570.623410  \n",
      "2000-12-31  2131.815518   696.526312  1940.420652    88.433057  8763.135666  \n",
      "2001-12-31  2049.813464   766.032811  1981.894050    92.541003  6456.640839  \n",
      "2002-12-31  1585.739249   780.921286  2586.358561   158.645858  4217.824091  \n",
      "2003-12-31  1514.423846  1117.212072  2829.706873   255.535417  4475.640383  \n",
      "2004-12-31  1803.878701  1602.480998  2961.809488   564.955737  4303.698841  \n",
      "2005-12-31  1849.806083  1973.689379  2951.067064   942.469722  4827.778067  \n",
      "2006-12-31  1534.165861  2361.341983  2742.644583  1875.345098  5553.051079  \n",
      "2007-12-31  1302.280225  2062.288150  3192.567847  2124.361975  5416.047716  \n",
      "2008-12-31  1652.863932  2057.749500  3333.031626  2120.504288  5437.749453  \n",
      "2009-12-31  1522.679104  2093.759795  3316.134625  1962.233134  5606.210457  \n",
      "2010-12-31  1669.297115  2296.727821  3395.198776  1923.643232  6125.266379  \n",
      "2011-12-31  2029.367719  2373.120534  3445.355899  2090.079342  6636.890178  \n",
      "2012-12-31  2016.587308  2459.869916  3294.479987  2104.865289  7370.134885  \n",
      "2013-12-31  1808.155640  2506.304067  3274.646896  1929.868791  7156.227920  \n",
      "2014-12-31  2110.616580  2554.285560  3429.509560  1618.268997  7151.104610  \n",
      "2015-12-31  2200.628596  2635.105568  3522.147573  1345.509634  7393.367713  \n",
      "2016-12-31  2196.365018  2683.321717  3575.329439  1558.293487  7223.723381  \n",
      "\n",
      "[21 rows x 35 columns]\n"
     ]
    }
   ],
   "source": [
    "#set_index():設定dataframe的index\n",
    "data.set_index(rng , inplace=True)\n",
    "# fillna: 遇到 NaN 填入指定的數字\n",
    "data=data.fillna(value=0) \n",
    "\n",
    "print(data)\n"
   ]
  },
  {
   "cell_type": "code",
   "execution_count": 51,
   "metadata": {},
   "outputs": [
    {
     "name": "stdout",
     "output_type": "stream",
     "text": [
      "1996-12-31    680.496987\n",
      "1997-12-31    516.178273\n",
      "1998-12-31    381.015219\n",
      "1999-12-31    414.838818\n",
      "2000-12-31    410.978753\n",
      "2001-12-31    553.849290\n",
      "2002-12-31    196.037905\n",
      "2003-12-31    167.776233\n",
      "2004-12-31    163.959637\n",
      "2005-12-31    202.491574\n",
      "2006-12-31    224.858551\n",
      "2007-12-31     88.386042\n",
      "2008-12-31    134.372068\n",
      "2009-12-31     93.572788\n",
      "2010-12-31     70.291256\n",
      "2011-12-31    116.006426\n",
      "2012-12-31    124.399133\n",
      "2013-12-31     89.336017\n",
      "2014-12-31     70.069773\n",
      "2015-12-31     69.552810\n",
      "2016-12-31     66.683640\n",
      "Name: SEC3, dtype: float64\n"
     ]
    },
    {
     "data": {
      "image/png": "[encoded data removed]",
      "text/plain": [
       "<Figure size 432x288 with 1 Axes>"
      ]
     },
     "metadata": {
      "needs_background": "light"
     },
     "output_type": "display_data"
    }
   ],
   "source": [
    "#從dataframe取ts資料\n",
    "ts3 = data.iloc[:,2]\n",
    "print(ts3)\n",
    "ts3.plot()\n",
    "plt.show()"
   ]
  },
  {
   "cell_type": "code",
   "execution_count": 48,
   "metadata": {},
   "outputs": [],
   "source": [
    "# Define the p, d and q parameters to take any value between 0 and 2\n",
    "p = d = q = range(0, 2)"
   ]
  },
  {
   "cell_type": "code",
   "execution_count": 14,
   "metadata": {},
   "outputs": [],
   "source": [
    "# Generate all different combinations of p, q and q triplets\n",
    "pdq = list(itertools.product(p, d, q))"
   ]
  },
  {
   "cell_type": "code",
   "execution_count": 15,
   "metadata": {},
   "outputs": [
    {
     "data": {
      "text/plain": [
       "DatetimeIndex(['1996-12-31', '1997-12-31', '1998-12-31', '1999-12-31',\n",
       "               '2000-12-31', '2001-12-31', '2002-12-31', '2003-12-31',\n",
       "               '2004-12-31', '2005-12-31', '2006-12-31', '2007-12-31',\n",
       "               '2008-12-31', '2009-12-31', '2010-12-31', '2011-12-31',\n",
       "               '2012-12-31', '2013-12-31', '2014-12-31', '2015-12-31',\n",
       "               '2016-12-31'],\n",
       "              dtype='datetime64[ns]', freq=None)"
      ]
     },
     "execution_count": 15,
     "metadata": {},
     "output_type": "execute_result"
    }
   ],
   "source": [
    "ts3.index\n"
   ]
  },
  {
   "cell_type": "code",
   "execution_count": 49,
   "metadata": {
    "scrolled": true
   },
   "outputs": [
    {
     "name": "stdout",
     "output_type": "stream",
     "text": [
      "                              ARMA Model Results                              \n",
      "==============================================================================\n",
      "Dep. Variable:                   SEC3   No. Observations:                   20\n",
      "Model:                     ARMA(1, 0)   Log Likelihood                -120.709\n",
      "Method:                       css-mle   S.D. of innovations             98.380\n",
      "Date:                Fri, 19 Oct 2018   AIC                            247.417\n",
      "Time:                        14:05:43   BIC                            250.404\n",
      "Sample:                    12-31-1997   HQIC                           248.000\n",
      "                         - 12-31-2016                                         \n",
      "==============================================================================\n",
      "                 coef    std err          z      P>|z|      [0.025      0.975]\n",
      "------------------------------------------------------------------------------\n",
      "const        233.6834    101.751      2.297      0.034      34.255     433.112\n",
      "ar.L1.SEC3     0.8180      0.138      5.911      0.000       0.547       1.089\n",
      "                                    Roots                                    \n",
      "=============================================================================\n",
      "                  Real          Imaginary           Modulus         Frequency\n",
      "-----------------------------------------------------------------------------\n",
      "AR.1            1.2225           +0.0000j            1.2225            0.0000\n",
      "-----------------------------------------------------------------------------\n"
     ]
    },
    {
     "name": "stderr",
     "output_type": "stream",
     "text": [
      "C:\\ProgramData\\Anaconda3\\lib\\site-packages\\statsmodels\\tsa\\base\\tsa_model.py:171: ValueWarning: No frequency information was provided, so inferred frequency A-DEC will be used.\n",
      "  % freq, ValueWarning)\n",
      "C:\\ProgramData\\Anaconda3\\lib\\site-packages\\scipy\\signal\\signaltools.py:1341: FutureWarning: Using a non-tuple sequence for multidimensional indexing is deprecated; use `arr[tuple(seq)]` instead of `arr[seq]`. In the future this will be interpreted as an array index, `arr[np.array(seq)]`, which will result either in an error or a different result.\n",
      "  out_full[ind] += zi\n",
      "C:\\ProgramData\\Anaconda3\\lib\\site-packages\\scipy\\signal\\signaltools.py:1344: FutureWarning: Using a non-tuple sequence for multidimensional indexing is deprecated; use `arr[tuple(seq)]` instead of `arr[seq]`. In the future this will be interpreted as an array index, `arr[np.array(seq)]`, which will result either in an error or a different result.\n",
      "  out = out_full[ind]\n",
      "C:\\ProgramData\\Anaconda3\\lib\\site-packages\\scipy\\signal\\signaltools.py:1350: FutureWarning: Using a non-tuple sequence for multidimensional indexing is deprecated; use `arr[tuple(seq)]` instead of `arr[seq]`. In the future this will be interpreted as an array index, `arr[np.array(seq)]`, which will result either in an error or a different result.\n",
      "  zf = out_full[ind]\n"
     ]
    }
   ],
   "source": [
    "#ARIMA模型結果輸出\n",
    "mod =ARIMA(ts3,order=(1, 0, 0))\n",
    "\n",
    "result = mod.fit()\n",
    "print(result.summary())\n"
   ]
  },
  {
   "cell_type": "code",
   "execution_count": 16,
   "metadata": {},
   "outputs": [
    {
     "name": "stderr",
     "output_type": "stream",
     "text": [
      "C:\\ProgramData\\Anaconda3\\lib\\site-packages\\scipy\\signal\\signaltools.py:1341: FutureWarning: Using a non-tuple sequence for multidimensional indexing is deprecated; use `arr[tuple(seq)]` instead of `arr[seq]`. In the future this will be interpreted as an array index, `arr[np.array(seq)]`, which will result either in an error or a different result.\n",
      "  out_full[ind] += zi\n",
      "C:\\ProgramData\\Anaconda3\\lib\\site-packages\\scipy\\signal\\signaltools.py:1344: FutureWarning: Using a non-tuple sequence for multidimensional indexing is deprecated; use `arr[tuple(seq)]` instead of `arr[seq]`. In the future this will be interpreted as an array index, `arr[np.array(seq)]`, which will result either in an error or a different result.\n",
      "  out = out_full[ind]\n",
      "C:\\ProgramData\\Anaconda3\\lib\\site-packages\\scipy\\signal\\signaltools.py:1350: FutureWarning: Using a non-tuple sequence for multidimensional indexing is deprecated; use `arr[tuple(seq)]` instead of `arr[seq]`. In the future this will be interpreted as an array index, `arr[np.array(seq)]`, which will result either in an error or a different result.\n",
      "  zf = out_full[ind]\n"
     ]
    },
    {
     "name": "stdout",
     "output_type": "stream",
     "text": [
      "ARIMA(0, 0, 0) - AIC:281.8368345352911\n",
      "ARIMA(0, 0, 1) - AIC:272.53107748768895\n",
      "ARIMA(0, 1, 0) - AIC:245.5113050338489\n",
      "ARIMA(0, 1, 1) - AIC:244.79422970945856\n",
      "ARIMA(1, 0, 0) - AIC:262.37330100738416\n",
      "ARIMA(1, 0, 1) - AIC:264.05176880565494\n",
      "ARIMA(1, 1, 0) - AIC:246.3140716773588\n",
      "ARIMA(1, 1, 1) - AIC:246.30007198638987\n"
     ]
    },
    {
     "name": "stderr",
     "output_type": "stream",
     "text": [
      "C:\\ProgramData\\Anaconda3\\lib\\site-packages\\statsmodels\\tsa\\kalmanf\\kalmanfilter.py:649: RuntimeWarning: divide by zero encountered in true_divide\n",
      "  R_mat, T_mat)\n"
     ]
    }
   ],
   "source": [
    "#找出ts3最適ARIMA模型，選AIC最小。\n",
    "for param in pdq:\n",
    "    try:\n",
    "            mod = ARIMA(ts3,\n",
    "                        order=param,\n",
    "                        freq='A-DEC')\n",
    "                                          \n",
    "            results = mod.fit()\n",
    "\n",
    "            print('ARIMA{} - AIC:{}'.format(param, results.aic))\n",
    "    except:\n",
    "            continue"
   ]
  },
  {
   "cell_type": "code",
   "execution_count": 52,
   "metadata": {},
   "outputs": [
    {
     "name": "stdout",
     "output_type": "stream",
     "text": [
      "================================================================================\n",
      "                   coef    std err          z      P>|z|      [0.025      0.975]\n",
      "--------------------------------------------------------------------------------\n",
      "const          -27.2213     10.260     -2.653      0.016     -47.331      -7.112\n",
      "ma.L1.D.SEC3    -0.5456      0.231     -2.365      0.029      -0.998      -0.094\n",
      "================================================================================\n"
     ]
    },
    {
     "name": "stderr",
     "output_type": "stream",
     "text": [
      "C:\\ProgramData\\Anaconda3\\lib\\site-packages\\statsmodels\\tsa\\base\\tsa_model.py:171: ValueWarning: No frequency information was provided, so inferred frequency A-DEC will be used.\n",
      "  % freq, ValueWarning)\n",
      "C:\\ProgramData\\Anaconda3\\lib\\site-packages\\statsmodels\\tsa\\base\\tsa_model.py:171: ValueWarning: No frequency information was provided, so inferred frequency A-DEC will be used.\n",
      "  % freq, ValueWarning)\n"
     ]
    }
   ],
   "source": [
    "#ARIMA模型結果輸出\n",
    "mod =ARIMA(ts3,order=(0, 1, 1),)\n",
    "\n",
    "result = mod.fit()\n",
    "print(result.summary().tables[1])"
   ]
  },
  {
   "cell_type": "code",
   "execution_count": 30,
   "metadata": {},
   "outputs": [
    {
     "name": "stdout",
     "output_type": "stream",
     "text": [
      "20 19 19\n",
      "            AC          Q  Prob(>Q)\n",
      "lag                                \n",
      "1.0   0.163019   0.615422  0.432754\n",
      "2.0  -0.095132   0.836648  0.658149\n",
      "3.0  -0.211638   1.995930  0.573252\n",
      "4.0   0.110362   2.330872  0.675154\n",
      "5.0   0.456369   8.440191  0.133587\n",
      "6.0   0.057044   8.542462  0.200991\n",
      "7.0   0.016248   8.551396  0.286487\n",
      "8.0  -0.151124   9.388809  0.310565\n",
      "9.0  -0.149888  10.287463  0.327719\n",
      "10.0 -0.012176  10.293987  0.415090\n",
      "11.0 -0.020327  10.314187  0.502367\n",
      "12.0 -0.066064  10.554232  0.567457\n",
      "13.0 -0.150280  11.973799  0.529793\n",
      "14.0 -0.153377  13.698928  0.472374\n",
      "15.0 -0.040031  13.839948  0.537701\n",
      "16.0 -0.058930  14.221946  0.582183\n",
      "17.0 -0.072244  14.987428  0.596387\n",
      "18.0 -0.082763  16.494372  0.558087\n",
      "19.0 -0.039067  17.165901  0.578629\n"
     ]
    }
   ],
   "source": [
    "# ARIMA   Ljung-Box檢驗 -----模型顯著性檢驗，Prod> 0.05，說明該模型適合樣本\n",
    "\n",
    "resid = result.resid\n",
    "r, q, p = tsa.acf(resid.values.squeeze(), qstat=True)\n",
    "print(len(r), len(q), len(p))\n",
    "test_data = np.c_[range(1, 20), r[1:], q, p]\n",
    "table = pd.DataFrame(test_data, columns=['lag', 'AC', 'Q', 'Prob(>Q)'])\n",
    "print(table.set_index('lag'))"
   ]
  },
  {
   "cell_type": "code",
   "execution_count": 56,
   "metadata": {},
   "outputs": [
    {
     "name": "stdout",
     "output_type": "stream",
     "text": [
      "2015-12-31     28.259418\n",
      "2016-12-31     19.801058\n",
      "2017-12-31     13.882326\n",
      "2018-12-31    -13.339007\n",
      "2019-12-31    -40.560339\n",
      "2020-12-31    -67.781671\n",
      "2021-12-31    -95.003003\n",
      "2022-12-31   -122.224335\n",
      "2023-12-31   -149.445668\n",
      "2024-12-31   -176.667000\n",
      "2025-12-31   -203.888332\n",
      "2026-12-31   -231.109664\n",
      "2027-12-31   -258.330997\n",
      "2028-12-31   -285.552329\n",
      "2029-12-31   -312.773661\n",
      "2030-12-31   -339.994993\n",
      "2031-12-31   -367.216326\n",
      "2032-12-31   -394.437658\n",
      "2033-12-31   -421.658990\n",
      "2034-12-31   -448.880322\n",
      "2035-12-31   -476.101655\n",
      "2036-12-31   -503.322987\n",
      "2037-12-31   -530.544319\n",
      "2038-12-31   -557.765651\n",
      "2039-12-31   -584.986984\n",
      "2040-12-31   -612.208316\n",
      "2041-12-31   -639.429648\n",
      "2042-12-31   -666.650980\n",
      "2043-12-31   -693.872312\n",
      "2044-12-31   -721.093645\n",
      "2045-12-31   -748.314977\n",
      "2046-12-31   -775.536309\n",
      "2047-12-31   -802.757641\n",
      "2048-12-31   -829.978974\n",
      "2049-12-31   -857.200306\n",
      "2050-12-31   -884.421638\n",
      "Freq: A-DEC, dtype: float64\n"
     ]
    },
    {
     "data": {
      "image/png": "[encoded data removed]",
      "text/plain": [
       "<Figure size 432x288 with 1 Axes>"
      ]
     },
     "metadata": {
      "needs_background": "light"
     },
     "output_type": "display_data"
    }
   ],
   "source": [
    "pred = result.predict('20151231', '20501231', typ='levels')\n",
    "print(pred)\n",
    "\n",
    "plt.plot(ts3,'rs',pred,'b^')\n",
    "#plt.plot(pred)\n",
    "plt.show()"
   ]
  },
  {
   "cell_type": "code",
   "execution_count": 66,
   "metadata": {},
   "outputs": [
    {
     "ename": "KeyError",
     "evalue": "\"None of [['SEC3', 'rng']] are in the [index]\"",
     "output_type": "error",
     "traceback": [
      "\u001b[1;31m---------------------------------------------------------------------------\u001b[0m",
      "\u001b[1;31mKeyError\u001b[0m                                  Traceback (most recent call last)",
      "\u001b[1;32m<ipython-input-66-125ff29bd7e8>\u001b[0m in \u001b[0;36m<module>\u001b[1;34m()\u001b[0m\n\u001b[1;32m----> 1\u001b[1;33m \u001b[0msns\u001b[0m\u001b[1;33m.\u001b[0m\u001b[0mlmplot\u001b[0m\u001b[1;33m(\u001b[0m\u001b[1;34m'rng'\u001b[0m\u001b[1;33m,\u001b[0m\u001b[1;34m'SEC3'\u001b[0m\u001b[1;33m,\u001b[0m\u001b[0mdata\u001b[0m\u001b[1;33m=\u001b[0m\u001b[0mts3\u001b[0m\u001b[1;33m)\u001b[0m\u001b[1;33m\u001b[0m\u001b[0m\n\u001b[0m",
      "\u001b[1;32mC:\\ProgramData\\Anaconda3\\lib\\site-packages\\seaborn\\regression.py\u001b[0m in \u001b[0;36mlmplot\u001b[1;34m(x, y, data, hue, col, row, palette, col_wrap, height, aspect, markers, sharex, sharey, hue_order, col_order, row_order, legend, legend_out, x_estimator, x_bins, x_ci, scatter, fit_reg, ci, n_boot, units, order, logistic, lowess, robust, logx, x_partial, y_partial, truncate, x_jitter, y_jitter, scatter_kws, line_kws, size)\u001b[0m\n\u001b[0;32m    549\u001b[0m     \u001b[0mneed_cols\u001b[0m \u001b[1;33m=\u001b[0m \u001b[1;33m[\u001b[0m\u001b[0mx\u001b[0m\u001b[1;33m,\u001b[0m \u001b[0my\u001b[0m\u001b[1;33m,\u001b[0m \u001b[0mhue\u001b[0m\u001b[1;33m,\u001b[0m \u001b[0mcol\u001b[0m\u001b[1;33m,\u001b[0m \u001b[0mrow\u001b[0m\u001b[1;33m,\u001b[0m \u001b[0munits\u001b[0m\u001b[1;33m,\u001b[0m \u001b[0mx_partial\u001b[0m\u001b[1;33m,\u001b[0m \u001b[0my_partial\u001b[0m\u001b[1;33m]\u001b[0m\u001b[1;33m\u001b[0m\u001b[0m\n\u001b[0;32m    550\u001b[0m     \u001b[0mcols\u001b[0m \u001b[1;33m=\u001b[0m \u001b[0mnp\u001b[0m\u001b[1;33m.\u001b[0m\u001b[0munique\u001b[0m\u001b[1;33m(\u001b[0m\u001b[1;33m[\u001b[0m\u001b[0ma\u001b[0m \u001b[1;32mfor\u001b[0m \u001b[0ma\u001b[0m \u001b[1;32min\u001b[0m \u001b[0mneed_cols\u001b[0m \u001b[1;32mif\u001b[0m \u001b[0ma\u001b[0m \u001b[1;32mis\u001b[0m \u001b[1;32mnot\u001b[0m \u001b[1;32mNone\u001b[0m\u001b[1;33m]\u001b[0m\u001b[1;33m)\u001b[0m\u001b[1;33m.\u001b[0m\u001b[0mtolist\u001b[0m\u001b[1;33m(\u001b[0m\u001b[1;33m)\u001b[0m\u001b[1;33m\u001b[0m\u001b[0m\n\u001b[1;32m--> 551\u001b[1;33m     \u001b[0mdata\u001b[0m \u001b[1;33m=\u001b[0m \u001b[0mdata\u001b[0m\u001b[1;33m[\u001b[0m\u001b[0mcols\u001b[0m\u001b[1;33m]\u001b[0m\u001b[1;33m\u001b[0m\u001b[0m\n\u001b[0m\u001b[0;32m    552\u001b[0m \u001b[1;33m\u001b[0m\u001b[0m\n\u001b[0;32m    553\u001b[0m     \u001b[1;31m# Initialize the grid\u001b[0m\u001b[1;33m\u001b[0m\u001b[1;33m\u001b[0m\u001b[0m\n",
      "\u001b[1;32mC:\\ProgramData\\Anaconda3\\lib\\site-packages\\pandas\\core\\series.py\u001b[0m in \u001b[0;36m__getitem__\u001b[1;34m(self, key)\u001b[0m\n\u001b[0;32m    808\u001b[0m             \u001b[0mkey\u001b[0m \u001b[1;33m=\u001b[0m \u001b[0mcheck_bool_indexer\u001b[0m\u001b[1;33m(\u001b[0m\u001b[0mself\u001b[0m\u001b[1;33m.\u001b[0m\u001b[0mindex\u001b[0m\u001b[1;33m,\u001b[0m \u001b[0mkey\u001b[0m\u001b[1;33m)\u001b[0m\u001b[1;33m\u001b[0m\u001b[0m\n\u001b[0;32m    809\u001b[0m \u001b[1;33m\u001b[0m\u001b[0m\n\u001b[1;32m--> 810\u001b[1;33m         \u001b[1;32mreturn\u001b[0m \u001b[0mself\u001b[0m\u001b[1;33m.\u001b[0m\u001b[0m_get_with\u001b[0m\u001b[1;33m(\u001b[0m\u001b[0mkey\u001b[0m\u001b[1;33m)\u001b[0m\u001b[1;33m\u001b[0m\u001b[0m\n\u001b[0m\u001b[0;32m    811\u001b[0m \u001b[1;33m\u001b[0m\u001b[0m\n\u001b[0;32m    812\u001b[0m     \u001b[1;32mdef\u001b[0m \u001b[0m_get_with\u001b[0m\u001b[1;33m(\u001b[0m\u001b[0mself\u001b[0m\u001b[1;33m,\u001b[0m \u001b[0mkey\u001b[0m\u001b[1;33m)\u001b[0m\u001b[1;33m:\u001b[0m\u001b[1;33m\u001b[0m\u001b[0m\n",
      "\u001b[1;32mC:\\ProgramData\\Anaconda3\\lib\\site-packages\\pandas\\core\\series.py\u001b[0m in \u001b[0;36m_get_with\u001b[1;34m(self, key)\u001b[0m\n\u001b[0;32m    849\u001b[0m                     \u001b[1;31m# handle the dup indexing case (GH 4246)\u001b[0m\u001b[1;33m\u001b[0m\u001b[1;33m\u001b[0m\u001b[0m\n\u001b[0;32m    850\u001b[0m                     \u001b[1;32mif\u001b[0m \u001b[0misinstance\u001b[0m\u001b[1;33m(\u001b[0m\u001b[0mkey\u001b[0m\u001b[1;33m,\u001b[0m \u001b[1;33m(\u001b[0m\u001b[0mlist\u001b[0m\u001b[1;33m,\u001b[0m \u001b[0mtuple\u001b[0m\u001b[1;33m)\u001b[0m\u001b[1;33m)\u001b[0m\u001b[1;33m:\u001b[0m\u001b[1;33m\u001b[0m\u001b[0m\n\u001b[1;32m--> 851\u001b[1;33m                         \u001b[1;32mreturn\u001b[0m \u001b[0mself\u001b[0m\u001b[1;33m.\u001b[0m\u001b[0mloc\u001b[0m\u001b[1;33m[\u001b[0m\u001b[0mkey\u001b[0m\u001b[1;33m]\u001b[0m\u001b[1;33m\u001b[0m\u001b[0m\n\u001b[0m\u001b[0;32m    852\u001b[0m \u001b[1;33m\u001b[0m\u001b[0m\n\u001b[0;32m    853\u001b[0m                     \u001b[1;32mreturn\u001b[0m \u001b[0mself\u001b[0m\u001b[1;33m.\u001b[0m\u001b[0mreindex\u001b[0m\u001b[1;33m(\u001b[0m\u001b[0mkey\u001b[0m\u001b[1;33m)\u001b[0m\u001b[1;33m\u001b[0m\u001b[0m\n",
      "\u001b[1;32mC:\\ProgramData\\Anaconda3\\lib\\site-packages\\pandas\\core\\indexing.py\u001b[0m in \u001b[0;36m__getitem__\u001b[1;34m(self, key)\u001b[0m\n\u001b[0;32m   1476\u001b[0m \u001b[1;33m\u001b[0m\u001b[0m\n\u001b[0;32m   1477\u001b[0m             \u001b[0mmaybe_callable\u001b[0m \u001b[1;33m=\u001b[0m \u001b[0mcom\u001b[0m\u001b[1;33m.\u001b[0m\u001b[0m_apply_if_callable\u001b[0m\u001b[1;33m(\u001b[0m\u001b[0mkey\u001b[0m\u001b[1;33m,\u001b[0m \u001b[0mself\u001b[0m\u001b[1;33m.\u001b[0m\u001b[0mobj\u001b[0m\u001b[1;33m)\u001b[0m\u001b[1;33m\u001b[0m\u001b[0m\n\u001b[1;32m-> 1478\u001b[1;33m             \u001b[1;32mreturn\u001b[0m \u001b[0mself\u001b[0m\u001b[1;33m.\u001b[0m\u001b[0m_getitem_axis\u001b[0m\u001b[1;33m(\u001b[0m\u001b[0mmaybe_callable\u001b[0m\u001b[1;33m,\u001b[0m \u001b[0maxis\u001b[0m\u001b[1;33m=\u001b[0m\u001b[0maxis\u001b[0m\u001b[1;33m)\u001b[0m\u001b[1;33m\u001b[0m\u001b[0m\n\u001b[0m\u001b[0;32m   1479\u001b[0m \u001b[1;33m\u001b[0m\u001b[0m\n\u001b[0;32m   1480\u001b[0m     \u001b[1;32mdef\u001b[0m \u001b[0m_is_scalar_access\u001b[0m\u001b[1;33m(\u001b[0m\u001b[0mself\u001b[0m\u001b[1;33m,\u001b[0m \u001b[0mkey\u001b[0m\u001b[1;33m)\u001b[0m\u001b[1;33m:\u001b[0m\u001b[1;33m\u001b[0m\u001b[0m\n",
      "\u001b[1;32mC:\\ProgramData\\Anaconda3\\lib\\site-packages\\pandas\\core\\indexing.py\u001b[0m in \u001b[0;36m_getitem_axis\u001b[1;34m(self, key, axis)\u001b[0m\n\u001b[0;32m   1899\u001b[0m                     \u001b[1;32mraise\u001b[0m \u001b[0mValueError\u001b[0m\u001b[1;33m(\u001b[0m\u001b[1;34m'Cannot index with multidimensional key'\u001b[0m\u001b[1;33m)\u001b[0m\u001b[1;33m\u001b[0m\u001b[0m\n\u001b[0;32m   1900\u001b[0m \u001b[1;33m\u001b[0m\u001b[0m\n\u001b[1;32m-> 1901\u001b[1;33m                 \u001b[1;32mreturn\u001b[0m \u001b[0mself\u001b[0m\u001b[1;33m.\u001b[0m\u001b[0m_getitem_iterable\u001b[0m\u001b[1;33m(\u001b[0m\u001b[0mkey\u001b[0m\u001b[1;33m,\u001b[0m \u001b[0maxis\u001b[0m\u001b[1;33m=\u001b[0m\u001b[0maxis\u001b[0m\u001b[1;33m)\u001b[0m\u001b[1;33m\u001b[0m\u001b[0m\n\u001b[0m\u001b[0;32m   1902\u001b[0m \u001b[1;33m\u001b[0m\u001b[0m\n\u001b[0;32m   1903\u001b[0m             \u001b[1;31m# nested tuple slicing\u001b[0m\u001b[1;33m\u001b[0m\u001b[1;33m\u001b[0m\u001b[0m\n",
      "\u001b[1;32mC:\\ProgramData\\Anaconda3\\lib\\site-packages\\pandas\\core\\indexing.py\u001b[0m in \u001b[0;36m_getitem_iterable\u001b[1;34m(self, key, axis)\u001b[0m\n\u001b[0;32m   1141\u001b[0m             \u001b[1;32mif\u001b[0m \u001b[0mlabels\u001b[0m\u001b[1;33m.\u001b[0m\u001b[0mis_unique\u001b[0m \u001b[1;32mand\u001b[0m \u001b[0mIndex\u001b[0m\u001b[1;33m(\u001b[0m\u001b[0mkeyarr\u001b[0m\u001b[1;33m)\u001b[0m\u001b[1;33m.\u001b[0m\u001b[0mis_unique\u001b[0m\u001b[1;33m:\u001b[0m\u001b[1;33m\u001b[0m\u001b[0m\n\u001b[0;32m   1142\u001b[0m                 \u001b[0mindexer\u001b[0m \u001b[1;33m=\u001b[0m \u001b[0max\u001b[0m\u001b[1;33m.\u001b[0m\u001b[0mget_indexer_for\u001b[0m\u001b[1;33m(\u001b[0m\u001b[0mkey\u001b[0m\u001b[1;33m)\u001b[0m\u001b[1;33m\u001b[0m\u001b[0m\n\u001b[1;32m-> 1143\u001b[1;33m                 \u001b[0mself\u001b[0m\u001b[1;33m.\u001b[0m\u001b[0m_validate_read_indexer\u001b[0m\u001b[1;33m(\u001b[0m\u001b[0mkey\u001b[0m\u001b[1;33m,\u001b[0m \u001b[0mindexer\u001b[0m\u001b[1;33m,\u001b[0m \u001b[0maxis\u001b[0m\u001b[1;33m)\u001b[0m\u001b[1;33m\u001b[0m\u001b[0m\n\u001b[0m\u001b[0;32m   1144\u001b[0m \u001b[1;33m\u001b[0m\u001b[0m\n\u001b[0;32m   1145\u001b[0m                 \u001b[0md\u001b[0m \u001b[1;33m=\u001b[0m \u001b[1;33m{\u001b[0m\u001b[0maxis\u001b[0m\u001b[1;33m:\u001b[0m \u001b[1;33m[\u001b[0m\u001b[0max\u001b[0m\u001b[1;33m.\u001b[0m\u001b[0mreindex\u001b[0m\u001b[1;33m(\u001b[0m\u001b[0mkeyarr\u001b[0m\u001b[1;33m)\u001b[0m\u001b[1;33m[\u001b[0m\u001b[1;36m0\u001b[0m\u001b[1;33m]\u001b[0m\u001b[1;33m,\u001b[0m \u001b[0mindexer\u001b[0m\u001b[1;33m]\u001b[0m\u001b[1;33m}\u001b[0m\u001b[1;33m\u001b[0m\u001b[0m\n",
      "\u001b[1;32mC:\\ProgramData\\Anaconda3\\lib\\site-packages\\pandas\\core\\indexing.py\u001b[0m in \u001b[0;36m_validate_read_indexer\u001b[1;34m(self, key, indexer, axis)\u001b[0m\n\u001b[0;32m   1204\u001b[0m                 raise KeyError(\n\u001b[0;32m   1205\u001b[0m                     u\"None of [{key}] are in the [{axis}]\".format(\n\u001b[1;32m-> 1206\u001b[1;33m                         key=key, axis=self.obj._get_axis_name(axis)))\n\u001b[0m\u001b[0;32m   1207\u001b[0m \u001b[1;33m\u001b[0m\u001b[0m\n\u001b[0;32m   1208\u001b[0m             \u001b[1;31m# we skip the warning on Categorical/Interval\u001b[0m\u001b[1;33m\u001b[0m\u001b[1;33m\u001b[0m\u001b[0m\n",
      "\u001b[1;31mKeyError\u001b[0m: \"None of [['SEC3', 'rng']] are in the [index]\""
     ]
    }
   ],
   "source": []
  },
  {
   "cell_type": "code",
   "execution_count": null,
   "metadata": {},
   "outputs": [],
   "source": []
  }
 ],
 "metadata": {
  "kernelspec": {
   "display_name": "Python 3",
   "language": "python",
   "name": "python3"
  },
  "language_info": {
   "codemirror_mode": {
    "name": "ipython",
    "version": 3
   },
   "file_extension": ".py",
   "mimetype": "text/x-python",
   "name": "python",
   "nbconvert_exporter": "python",
   "pygments_lexer": "ipython3",
   "version": "3.7.0"
  }
 },
 "nbformat": 4,
 "nbformat_minor": 2
}
