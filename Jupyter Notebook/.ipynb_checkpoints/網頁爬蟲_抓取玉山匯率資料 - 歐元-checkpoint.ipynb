{
 "cells": [
  {
   "cell_type": "code",
   "execution_count": 1,
   "metadata": {},
   "outputs": [],
   "source": [
    "import numpy as np\n",
    "import pandas as pd\n",
    "import matplotlib.pyplot as plt\n",
    "from selenium import webdriver\n",
    "from bs4 import BeautifulSoup\n",
    "import time\n",
    "%matplotlib inline"
   ]
  },
  {
   "cell_type": "code",
   "execution_count": 2,
   "metadata": {},
   "outputs": [],
   "source": [
    "def sellf():\n",
    "    lasttd_tags = soup.find_all('td', class_='lastTd')\n",
    "    sell=[]\n",
    "    for tag in lasttd_tags:\n",
    "        sell.append(tag.string)\n",
    "    sell=sell[1:]\n",
    "    return sell\n",
    "\n",
    "def datef():\n",
    "    td_tags = soup.find_all('td', class_='itemTtitle')\n",
    "    date=[]\n",
    "    for tag in td_tags:\n",
    "        date.append(tag.string)\n",
    "    return date\n",
    "\n",
    "def buyf():\n",
    "    td_tags = soup.find_all('td')\n",
    "    buy=[]\n",
    "    x=0\n",
    "#因為買入沒有標籤名稱，故先抓整個td列表，再將買入資訊用每隔3行的方式抓取\n",
    "    for tag in td_tags:\n",
    "        x=x+1\n",
    "        if  x%3 == 0 :               \n",
    "            buy.append(tag.string)      \n",
    "    buy=buy[1:]\n",
    "    return buy\n",
    "\n",
    "def func():\n",
    "        xp=\".pageNumber > li:nth-child(\" + str(k)+ \") > a\"\n",
    "        banner_list = web.find_element_by_css_selector(xp)\n",
    "        banner_list.click()\n",
    "        pageSource = web.page_source  # 取得網頁原始碼\n",
    "        soup = BeautifulSoup(pageSource, 'lxml')\n",
    "        return soup"
   ]
  },
  {
   "cell_type": "code",
   "execution_count": 3,
   "metadata": {
    "scrolled": true
   },
   "outputs": [
    {
     "ename": "NameError",
     "evalue": "name 'soup' is not defined",
     "output_type": "error",
     "traceback": [
      "\u001b[1;31m---------------------------------------------------------------------------\u001b[0m",
      "\u001b[1;31mNameError\u001b[0m                                 Traceback (most recent call last)",
      "\u001b[1;32m<ipython-input-3-cd2c3e9005c7>\u001b[0m in \u001b[0;36m<module>\u001b[1;34m()\u001b[0m\n\u001b[0;32m     14\u001b[0m         \u001b[0mk\u001b[0m\u001b[1;33m=\u001b[0m\u001b[0mi\u001b[0m\u001b[1;33m\u001b[0m\u001b[0m\n\u001b[0;32m     15\u001b[0m         \u001b[0mfunc\u001b[0m\u001b[1;33m(\u001b[0m\u001b[1;33m)\u001b[0m\u001b[1;33m\u001b[0m\u001b[0m\n\u001b[1;32m---> 16\u001b[1;33m         \u001b[0mask\u001b[0m\u001b[1;33m.\u001b[0m\u001b[0mextend\u001b[0m\u001b[1;33m(\u001b[0m\u001b[0msellf\u001b[0m\u001b[1;33m(\u001b[0m\u001b[1;33m)\u001b[0m\u001b[1;33m)\u001b[0m\u001b[1;33m\u001b[0m\u001b[0m\n\u001b[0m\u001b[0;32m     17\u001b[0m         \u001b[0merdate\u001b[0m\u001b[1;33m.\u001b[0m\u001b[0mextend\u001b[0m\u001b[1;33m(\u001b[0m\u001b[0mdatef\u001b[0m\u001b[1;33m(\u001b[0m\u001b[1;33m)\u001b[0m\u001b[1;33m)\u001b[0m\u001b[1;33m\u001b[0m\u001b[0m\n\u001b[0;32m     18\u001b[0m         \u001b[0mbid\u001b[0m\u001b[1;33m.\u001b[0m\u001b[0mextend\u001b[0m\u001b[1;33m(\u001b[0m\u001b[0mbuyf\u001b[0m\u001b[1;33m(\u001b[0m\u001b[1;33m)\u001b[0m\u001b[1;33m)\u001b[0m\u001b[1;33m\u001b[0m\u001b[0m\n",
      "\u001b[1;32m<ipython-input-2-f458fc96f364>\u001b[0m in \u001b[0;36msellf\u001b[1;34m()\u001b[0m\n\u001b[0;32m      1\u001b[0m \u001b[1;32mdef\u001b[0m \u001b[0msellf\u001b[0m\u001b[1;33m(\u001b[0m\u001b[1;33m)\u001b[0m\u001b[1;33m:\u001b[0m\u001b[1;33m\u001b[0m\u001b[0m\n\u001b[1;32m----> 2\u001b[1;33m     \u001b[0mlasttd_tags\u001b[0m \u001b[1;33m=\u001b[0m \u001b[0msoup\u001b[0m\u001b[1;33m.\u001b[0m\u001b[0mfind_all\u001b[0m\u001b[1;33m(\u001b[0m\u001b[1;34m'td'\u001b[0m\u001b[1;33m,\u001b[0m \u001b[0mclass_\u001b[0m\u001b[1;33m=\u001b[0m\u001b[1;34m'lastTd'\u001b[0m\u001b[1;33m)\u001b[0m\u001b[1;33m\u001b[0m\u001b[0m\n\u001b[0m\u001b[0;32m      3\u001b[0m     \u001b[0msell\u001b[0m\u001b[1;33m=\u001b[0m\u001b[1;33m[\u001b[0m\u001b[1;33m]\u001b[0m\u001b[1;33m\u001b[0m\u001b[0m\n\u001b[0;32m      4\u001b[0m     \u001b[1;32mfor\u001b[0m \u001b[0mtag\u001b[0m \u001b[1;32min\u001b[0m \u001b[0mlasttd_tags\u001b[0m\u001b[1;33m:\u001b[0m\u001b[1;33m\u001b[0m\u001b[0m\n\u001b[0;32m      5\u001b[0m         \u001b[0msell\u001b[0m\u001b[1;33m.\u001b[0m\u001b[0mappend\u001b[0m\u001b[1;33m(\u001b[0m\u001b[0mtag\u001b[0m\u001b[1;33m.\u001b[0m\u001b[0mstring\u001b[0m\u001b[1;33m)\u001b[0m\u001b[1;33m\u001b[0m\u001b[0m\n",
      "\u001b[1;31mNameError\u001b[0m: name 'soup' is not defined"
     ]
    }
   ],
   "source": [
    "url='https://www.esunbank.com.tw/bank/personal/deposit/rate/forex/exchange-rate-chart?Currency=EUR/TWD'#玉山歐元兌換的網址\n",
    "pc='C:\\ProgramData\\Anaconda3\\lib\\site-packages\\selenium\\webdriver\\chrome\\chromedriver'\n",
    "chrome='/Users/howard/Documents/PYTHON/webdriver/chromedriver'\n",
    "web = webdriver.Chrome(pc)  # Optional argument, if not specified will search path.\n",
    "web.get(url);\n",
    "web.find_element_by_xpath(\"//*[@id='tab-01']/div[1]/div[3]/div/label[2]\").click() #點擊頁面上\"數據表\"的連結\n",
    "ask=[]\n",
    "erdate=[]\n",
    "bid=[]\n",
    "\n",
    "#因為玉山匯率年資料共有21頁，但號碼不連續，所以共分成三段切換頁面\n",
    "for i in range(1, 22):\n",
    "    if i < 6:\n",
    "        k=i\n",
    "        soup = (func())\n",
    "        ask.extend(sellf())\n",
    "        erdate.extend(datef())\n",
    "        bid.extend(buyf())\n",
    "        \n",
    "    elif i >= 6 and i <= 18:\n",
    "        k=6\n",
    "        soup = func()\n",
    "        ask.extend(sellf())\n",
    "        erdate.extend(datef())\n",
    "        bid.extend(buyf())\n",
    "        \n",
    "    elif i == 21:\n",
    "        k=9\n",
    "        soup = func()\n",
    "        ask.extend(sellf())\n",
    "        erdate.extend(datef())\n",
    "        bid.extend(buyf())\n",
    "        \n",
    "    else:\n",
    "        k=i-12\n",
    "        soup = func()\n",
    "        ask.extend(sellf())\n",
    "        erdate.extend(datef())\n",
    "        bid.extend(buyf())\n",
    "        \n",
    "web.close()\n"
   ]
  },
  {
   "cell_type": "code",
   "execution_count": 5,
   "metadata": {},
   "outputs": [
    {
     "name": "stdout",
     "output_type": "stream",
     "text": [
      "Empty DataFrame\n",
      "Columns: [bid, ask]\n",
      "Index: []\n"
     ]
    }
   ],
   "source": [
    "#彙整資料，並設定index為時間\n",
    "df= pd.DataFrame({'date':erdate, 'bid':bid, 'ask':ask})\n",
    "df['date']=pd.to_datetime(df['date'])\n",
    "df.index=df['date']\n",
    "del df['date']\n",
    "print(df)"
   ]
  },
  {
   "cell_type": "code",
   "execution_count": null,
   "metadata": {},
   "outputs": [],
   "source": [
    "#存入excel\n",
    "df.to_excel('EUR_'+(time.strftime(\"%Y-%m-%d\")) +'.xlsx')"
   ]
  },
  {
   "cell_type": "code",
   "execution_count": null,
   "metadata": {},
   "outputs": [],
   "source": []
  },
  {
   "cell_type": "code",
   "execution_count": null,
   "metadata": {},
   "outputs": [],
   "source": []
  }
 ],
 "metadata": {
  "kernelspec": {
   "display_name": "Python 3",
   "language": "python",
   "name": "python3"
  },
  "language_info": {
   "codemirror_mode": {
    "name": "ipython",
    "version": 3
   },
   "file_extension": ".py",
   "mimetype": "text/x-python",
   "name": "python",
   "nbconvert_exporter": "python",
   "pygments_lexer": "ipython3",
   "version": "3.7.0"
  }
 },
 "nbformat": 4,
 "nbformat_minor": 2
}
