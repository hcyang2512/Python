{
 "cells": [
  {
   "cell_type": "code",
   "execution_count": 1,
   "metadata": {},
   "outputs": [],
   "source": [
    "import pandas as pd\n",
    "import warnings\n",
    "import numpy as np\n",
    "import itertools\n",
    "import matplotlib.pyplot as plt\n",
    "import statsmodels.api as sm\n",
    "from statsmodels import regression\n",
    "from statsmodels.tsa.arima_model import ARIMA\n",
    "from statsmodels.api import tsa\n",
    "from statsmodels.tsa.stattools import adfuller\n",
    "from statsmodels.graphics.tsaplots import plot_acf, plot_pacf\n",
    "import time\n",
    "time1=time.time()"
   ]
  },
  {
   "cell_type": "code",
   "execution_count": 2,
   "metadata": {},
   "outputs": [
    {
     "data": {
      "text/html": [
       "<div>\n",
       "<style scoped>\n",
       "    .dataframe tbody tr th:only-of-type {\n",
       "        vertical-align: middle;\n",
       "    }\n",
       "\n",
       "    .dataframe tbody tr th {\n",
       "        vertical-align: top;\n",
       "    }\n",
       "\n",
       "    .dataframe thead th {\n",
       "        text-align: right;\n",
       "    }\n",
       "</style>\n",
       "<table border=\"1\" class=\"dataframe\">\n",
       "  <thead>\n",
       "    <tr style=\"text-align: right;\">\n",
       "      <th></th>\n",
       "      <th>勞動參與率</th>\n",
       "      <th>就業者</th>\n",
       "      <th>勞動力</th>\n",
       "    </tr>\n",
       "    <tr>\n",
       "      <th>year</th>\n",
       "      <th></th>\n",
       "      <th></th>\n",
       "      <th></th>\n",
       "    </tr>\n",
       "  </thead>\n",
       "  <tbody>\n",
       "    <tr>\n",
       "      <th>1978-12-31</th>\n",
       "      <td>58.76</td>\n",
       "      <td>6231.0</td>\n",
       "      <td>6337.0</td>\n",
       "    </tr>\n",
       "    <tr>\n",
       "      <th>1979-12-31</th>\n",
       "      <td>58.73</td>\n",
       "      <td>6432.0</td>\n",
       "      <td>6515.0</td>\n",
       "    </tr>\n",
       "    <tr>\n",
       "      <th>1980-12-31</th>\n",
       "      <td>58.26</td>\n",
       "      <td>6547.0</td>\n",
       "      <td>6629.0</td>\n",
       "    </tr>\n",
       "    <tr>\n",
       "      <th>1981-12-31</th>\n",
       "      <td>57.82</td>\n",
       "      <td>6672.0</td>\n",
       "      <td>6764.0</td>\n",
       "    </tr>\n",
       "    <tr>\n",
       "      <th>1982-12-31</th>\n",
       "      <td>57.93</td>\n",
       "      <td>6811.0</td>\n",
       "      <td>6959.0</td>\n",
       "    </tr>\n",
       "    <tr>\n",
       "      <th>1983-12-31</th>\n",
       "      <td>59.26</td>\n",
       "      <td>7070.0</td>\n",
       "      <td>7266.0</td>\n",
       "    </tr>\n",
       "    <tr>\n",
       "      <th>1984-12-31</th>\n",
       "      <td>59.72</td>\n",
       "      <td>7308.0</td>\n",
       "      <td>7491.0</td>\n",
       "    </tr>\n",
       "    <tr>\n",
       "      <th>1985-12-31</th>\n",
       "      <td>59.49</td>\n",
       "      <td>7428.0</td>\n",
       "      <td>7651.0</td>\n",
       "    </tr>\n",
       "    <tr>\n",
       "      <th>1986-12-31</th>\n",
       "      <td>60.37</td>\n",
       "      <td>7733.0</td>\n",
       "      <td>7945.0</td>\n",
       "    </tr>\n",
       "    <tr>\n",
       "      <th>1987-12-31</th>\n",
       "      <td>60.93</td>\n",
       "      <td>8022.0</td>\n",
       "      <td>8183.0</td>\n",
       "    </tr>\n",
       "    <tr>\n",
       "      <th>1988-12-31</th>\n",
       "      <td>60.21</td>\n",
       "      <td>8107.0</td>\n",
       "      <td>8247.0</td>\n",
       "    </tr>\n",
       "    <tr>\n",
       "      <th>1989-12-31</th>\n",
       "      <td>60.12</td>\n",
       "      <td>8258.0</td>\n",
       "      <td>8390.0</td>\n",
       "    </tr>\n",
       "    <tr>\n",
       "      <th>1990-12-31</th>\n",
       "      <td>59.24</td>\n",
       "      <td>8283.0</td>\n",
       "      <td>8423.0</td>\n",
       "    </tr>\n",
       "    <tr>\n",
       "      <th>1991-12-31</th>\n",
       "      <td>59.11</td>\n",
       "      <td>8439.0</td>\n",
       "      <td>8569.0</td>\n",
       "    </tr>\n",
       "    <tr>\n",
       "      <th>1992-12-31</th>\n",
       "      <td>59.34</td>\n",
       "      <td>8632.0</td>\n",
       "      <td>8765.0</td>\n",
       "    </tr>\n",
       "    <tr>\n",
       "      <th>1993-12-31</th>\n",
       "      <td>58.82</td>\n",
       "      <td>8745.0</td>\n",
       "      <td>8874.0</td>\n",
       "    </tr>\n",
       "    <tr>\n",
       "      <th>1994-12-31</th>\n",
       "      <td>58.96</td>\n",
       "      <td>8939.0</td>\n",
       "      <td>9081.0</td>\n",
       "    </tr>\n",
       "    <tr>\n",
       "      <th>1995-12-31</th>\n",
       "      <td>58.71</td>\n",
       "      <td>9045.0</td>\n",
       "      <td>9210.0</td>\n",
       "    </tr>\n",
       "    <tr>\n",
       "      <th>1996-12-31</th>\n",
       "      <td>58.44</td>\n",
       "      <td>9068.0</td>\n",
       "      <td>9310.0</td>\n",
       "    </tr>\n",
       "    <tr>\n",
       "      <th>1997-12-31</th>\n",
       "      <td>58.33</td>\n",
       "      <td>9176.0</td>\n",
       "      <td>9432.0</td>\n",
       "    </tr>\n",
       "    <tr>\n",
       "      <th>1998-12-31</th>\n",
       "      <td>58.04</td>\n",
       "      <td>9289.0</td>\n",
       "      <td>9546.0</td>\n",
       "    </tr>\n",
       "    <tr>\n",
       "      <th>1999-12-31</th>\n",
       "      <td>57.93</td>\n",
       "      <td>9385.0</td>\n",
       "      <td>9668.0</td>\n",
       "    </tr>\n",
       "    <tr>\n",
       "      <th>2000-12-31</th>\n",
       "      <td>57.68</td>\n",
       "      <td>9491.0</td>\n",
       "      <td>9784.0</td>\n",
       "    </tr>\n",
       "    <tr>\n",
       "      <th>2001-12-31</th>\n",
       "      <td>57.23</td>\n",
       "      <td>9383.0</td>\n",
       "      <td>9832.0</td>\n",
       "    </tr>\n",
       "    <tr>\n",
       "      <th>2002-12-31</th>\n",
       "      <td>57.34</td>\n",
       "      <td>9454.0</td>\n",
       "      <td>9969.0</td>\n",
       "    </tr>\n",
       "    <tr>\n",
       "      <th>2003-12-31</th>\n",
       "      <td>57.34</td>\n",
       "      <td>9573.0</td>\n",
       "      <td>10076.0</td>\n",
       "    </tr>\n",
       "    <tr>\n",
       "      <th>2004-12-31</th>\n",
       "      <td>57.66</td>\n",
       "      <td>9786.0</td>\n",
       "      <td>10240.0</td>\n",
       "    </tr>\n",
       "    <tr>\n",
       "      <th>2005-12-31</th>\n",
       "      <td>57.78</td>\n",
       "      <td>9942.0</td>\n",
       "      <td>10371.0</td>\n",
       "    </tr>\n",
       "    <tr>\n",
       "      <th>2006-12-31</th>\n",
       "      <td>57.92</td>\n",
       "      <td>10111.0</td>\n",
       "      <td>10522.0</td>\n",
       "    </tr>\n",
       "    <tr>\n",
       "      <th>2007-12-31</th>\n",
       "      <td>58.25</td>\n",
       "      <td>10294.0</td>\n",
       "      <td>10713.0</td>\n",
       "    </tr>\n",
       "    <tr>\n",
       "      <th>2008-12-31</th>\n",
       "      <td>58.28</td>\n",
       "      <td>10403.0</td>\n",
       "      <td>10853.0</td>\n",
       "    </tr>\n",
       "    <tr>\n",
       "      <th>2009-12-31</th>\n",
       "      <td>57.90</td>\n",
       "      <td>10279.0</td>\n",
       "      <td>10917.0</td>\n",
       "    </tr>\n",
       "    <tr>\n",
       "      <th>2010-12-31</th>\n",
       "      <td>58.07</td>\n",
       "      <td>10493.0</td>\n",
       "      <td>11070.0</td>\n",
       "    </tr>\n",
       "    <tr>\n",
       "      <th>2011-12-31</th>\n",
       "      <td>58.17</td>\n",
       "      <td>10709.0</td>\n",
       "      <td>11200.0</td>\n",
       "    </tr>\n",
       "    <tr>\n",
       "      <th>2012-12-31</th>\n",
       "      <td>58.35</td>\n",
       "      <td>10860.0</td>\n",
       "      <td>11341.0</td>\n",
       "    </tr>\n",
       "    <tr>\n",
       "      <th>2013-12-31</th>\n",
       "      <td>58.43</td>\n",
       "      <td>10967.0</td>\n",
       "      <td>11445.0</td>\n",
       "    </tr>\n",
       "    <tr>\n",
       "      <th>2014-12-31</th>\n",
       "      <td>58.54</td>\n",
       "      <td>11079.0</td>\n",
       "      <td>11535.0</td>\n",
       "    </tr>\n",
       "    <tr>\n",
       "      <th>2015-12-31</th>\n",
       "      <td>58.65</td>\n",
       "      <td>11198.0</td>\n",
       "      <td>11638.0</td>\n",
       "    </tr>\n",
       "    <tr>\n",
       "      <th>2016-12-31</th>\n",
       "      <td>58.75</td>\n",
       "      <td>11267.0</td>\n",
       "      <td>11727.0</td>\n",
       "    </tr>\n",
       "    <tr>\n",
       "      <th>2017-12-31</th>\n",
       "      <td>58.83</td>\n",
       "      <td>11352.0</td>\n",
       "      <td>11795.0</td>\n",
       "    </tr>\n",
       "  </tbody>\n",
       "</table>\n",
       "</div>"
      ],
      "text/plain": [
       "            勞動參與率      就業者      勞動力\n",
       "year                               \n",
       "1978-12-31  58.76   6231.0   6337.0\n",
       "1979-12-31  58.73   6432.0   6515.0\n",
       "1980-12-31  58.26   6547.0   6629.0\n",
       "1981-12-31  57.82   6672.0   6764.0\n",
       "1982-12-31  57.93   6811.0   6959.0\n",
       "1983-12-31  59.26   7070.0   7266.0\n",
       "1984-12-31  59.72   7308.0   7491.0\n",
       "1985-12-31  59.49   7428.0   7651.0\n",
       "1986-12-31  60.37   7733.0   7945.0\n",
       "1987-12-31  60.93   8022.0   8183.0\n",
       "1988-12-31  60.21   8107.0   8247.0\n",
       "1989-12-31  60.12   8258.0   8390.0\n",
       "1990-12-31  59.24   8283.0   8423.0\n",
       "1991-12-31  59.11   8439.0   8569.0\n",
       "1992-12-31  59.34   8632.0   8765.0\n",
       "1993-12-31  58.82   8745.0   8874.0\n",
       "1994-12-31  58.96   8939.0   9081.0\n",
       "1995-12-31  58.71   9045.0   9210.0\n",
       "1996-12-31  58.44   9068.0   9310.0\n",
       "1997-12-31  58.33   9176.0   9432.0\n",
       "1998-12-31  58.04   9289.0   9546.0\n",
       "1999-12-31  57.93   9385.0   9668.0\n",
       "2000-12-31  57.68   9491.0   9784.0\n",
       "2001-12-31  57.23   9383.0   9832.0\n",
       "2002-12-31  57.34   9454.0   9969.0\n",
       "2003-12-31  57.34   9573.0  10076.0\n",
       "2004-12-31  57.66   9786.0  10240.0\n",
       "2005-12-31  57.78   9942.0  10371.0\n",
       "2006-12-31  57.92  10111.0  10522.0\n",
       "2007-12-31  58.25  10294.0  10713.0\n",
       "2008-12-31  58.28  10403.0  10853.0\n",
       "2009-12-31  57.90  10279.0  10917.0\n",
       "2010-12-31  58.07  10493.0  11070.0\n",
       "2011-12-31  58.17  10709.0  11200.0\n",
       "2012-12-31  58.35  10860.0  11341.0\n",
       "2013-12-31  58.43  10967.0  11445.0\n",
       "2014-12-31  58.54  11079.0  11535.0\n",
       "2015-12-31  58.65  11198.0  11638.0\n",
       "2016-12-31  58.75  11267.0  11727.0\n",
       "2017-12-31  58.83  11352.0  11795.0"
      ]
     },
     "execution_count": 2,
     "metadata": {},
     "output_type": "execute_result"
    }
   ],
   "source": [
    "df = pd.read_excel('C:\\勞動回歸.xlsx', dtype='float')\n",
    "df['year'] = pd.Series(pd.date_range('1978', periods=40, freq='Y'))#.dt.year\n",
    "df['year'] = pd.to_datetime(df['year'])\n",
    "df.set_index('year' , inplace=True)\n",
    "df"
   ]
  },
  {
   "cell_type": "code",
   "execution_count": 3,
   "metadata": {},
   "outputs": [
    {
     "data": {
      "text/plain": [
       "year\n",
       "1978-12-31     6231.0\n",
       "1979-12-31     6432.0\n",
       "1980-12-31     6547.0\n",
       "1981-12-31     6672.0\n",
       "1982-12-31     6811.0\n",
       "1983-12-31     7070.0\n",
       "1984-12-31     7308.0\n",
       "1985-12-31     7428.0\n",
       "1986-12-31     7733.0\n",
       "1987-12-31     8022.0\n",
       "1988-12-31     8107.0\n",
       "1989-12-31     8258.0\n",
       "1990-12-31     8283.0\n",
       "1991-12-31     8439.0\n",
       "1992-12-31     8632.0\n",
       "1993-12-31     8745.0\n",
       "1994-12-31     8939.0\n",
       "1995-12-31     9045.0\n",
       "1996-12-31     9068.0\n",
       "1997-12-31     9176.0\n",
       "1998-12-31     9289.0\n",
       "1999-12-31     9385.0\n",
       "2000-12-31     9491.0\n",
       "2001-12-31     9383.0\n",
       "2002-12-31     9454.0\n",
       "2003-12-31     9573.0\n",
       "2004-12-31     9786.0\n",
       "2005-12-31     9942.0\n",
       "2006-12-31    10111.0\n",
       "2007-12-31    10294.0\n",
       "2008-12-31    10403.0\n",
       "2009-12-31    10279.0\n",
       "2010-12-31    10493.0\n",
       "2011-12-31    10709.0\n",
       "2012-12-31    10860.0\n",
       "2013-12-31    10967.0\n",
       "2014-12-31    11079.0\n",
       "2015-12-31    11198.0\n",
       "2016-12-31    11267.0\n",
       "2017-12-31    11352.0\n",
       "Name: 就業者, dtype: float64"
      ]
     },
     "execution_count": 3,
     "metadata": {},
     "output_type": "execute_result"
    }
   ],
   "source": [
    "Y=df.iloc[:, 1]\n",
    "x=df.iloc[:, 2]\n",
    "X=df.iloc[:, 2]\n",
    "lpr=df.iloc[:, 0]\n",
    "X = sm.add_constant(X) #加入常數項\n",
    "Y"
   ]
  },
  {
   "cell_type": "code",
   "execution_count": 4,
   "metadata": {},
   "outputs": [],
   "source": [
    "model = sm.OLS(Y,X)\n",
    "results = model.fit()"
   ]
  },
  {
   "cell_type": "code",
   "execution_count": 5,
   "metadata": {},
   "outputs": [
    {
     "name": "stdout",
     "output_type": "stream",
     "text": [
      "                            OLS Regression Results                            \n",
      "==============================================================================\n",
      "Dep. Variable:                    就業者   R-squared:                       0.997\n",
      "Model:                            OLS   Adj. R-squared:                  0.997\n",
      "Method:                 Least Squares   F-statistic:                 1.233e+04\n",
      "Date:                Wed, 07 Nov 2018   Prob (F-statistic):           2.37e-49\n",
      "Time:                        14:25:41   Log-Likelihood:                -232.65\n",
      "No. Observations:                  40   AIC:                             469.3\n",
      "Df Residuals:                      38   BIC:                             472.7\n",
      "Df Model:                           1                                         \n",
      "Covariance Type:            nonrobust                                         \n",
      "==============================================================================\n",
      "                 coef    std err          t      P>|t|      [0.025      0.975]\n",
      "------------------------------------------------------------------------------\n",
      "const        519.1173     78.018      6.654      0.000     361.178     677.057\n",
      "勞動力            0.9124      0.008    111.024      0.000       0.896       0.929\n",
      "==============================================================================\n",
      "Omnibus:                        1.364   Durbin-Watson:                   0.391\n",
      "Prob(Omnibus):                  0.506   Jarque-Bera (JB):                1.328\n",
      "Skew:                          -0.396   Prob(JB):                        0.515\n",
      "Kurtosis:                       2.589   Cond. No.                     5.62e+04\n",
      "==============================================================================\n",
      "\n",
      "Warnings:\n",
      "[1] Standard Errors assume that the covariance matrix of the errors is correctly specified.\n",
      "[2] The condition number is large, 5.62e+04. This might indicate that there are\n",
      "strong multicollinearity or other numerical problems.\n"
     ]
    }
   ],
   "source": [
    "print(results.summary())\n",
    "results_summary=results.summary()"
   ]
  },
  {
   "cell_type": "code",
   "execution_count": 6,
   "metadata": {},
   "outputs": [
    {
     "data": {
      "image/png": "[encoded data removed]",
      "text/plain": [
       "<Figure size 432x288 with 1 Axes>"
      ]
     },
     "metadata": {
      "needs_background": "light"
     },
     "output_type": "display_data"
    },
    {
     "data": {
      "text/plain": [
       "<Figure size 432x288 with 0 Axes>"
      ]
     },
     "metadata": {},
     "output_type": "display_data"
    }
   ],
   "source": [
    "plt.plot(x,'rs', label='勞動力')\n",
    "plt.plot(Y,'b*', label='就業人數')\n",
    "plt.ylabel('thousand person')\n",
    "plt.show()\n",
    "plt.savefig(\"勞動力與就業人數.jpg\")"
   ]
  },
  {
   "cell_type": "code",
   "execution_count": 7,
   "metadata": {},
   "outputs": [
    {
     "data": {
      "image/png": "[encoded data removed]",
      "text/plain": [
       "<Figure size 432x288 with 1 Axes>"
      ]
     },
     "metadata": {
      "needs_background": "light"
     },
     "output_type": "display_data"
    }
   ],
   "source": [
    "plt.xlabel('year')\n",
    "plt.ylabel('%')\n",
    "plt.plot(lpr)\n",
    "plt.savefig(\"勞動參與率.jpg\")"
   ]
  },
  {
   "cell_type": "code",
   "execution_count": 8,
   "metadata": {},
   "outputs": [
    {
     "name": "stdout",
     "output_type": "stream",
     "text": [
      "Test Statistic                 -2.056272\n",
      "p-value                         0.262457\n",
      "#Lags Used                      0.000000\n",
      "Number of Observations Used    39.000000\n",
      "Critical Value (1%)            -3.610400\n",
      "Critical Value (5%)            -2.939109\n",
      "Critical Value (10%)           -2.608063\n",
      "dtype: float64\n"
     ]
    }
   ],
   "source": [
    "def testStationarity(Y):\n",
    "    dftest = adfuller(Y)\n",
    "    # 对上述函数求得的值进行语义描述\n",
    "    dfoutput = pd.Series(dftest[0:4], index=['Test Statistic','p-value','#Lags Used','Number of Observations Used'])\n",
    "    for key,value in dftest[4].items():\n",
    "        dfoutput['Critical Value (%s)'%key] = value\n",
    "    return dfoutput\n",
    "print(testStationarity(Y))"
   ]
  },
  {
   "cell_type": "code",
   "execution_count": 19,
   "metadata": {},
   "outputs": [
    {
     "data": {
      "image/png": "[encoded data removed]",
      "text/plain": [
       "<Figure size 432x288 with 1 Axes>"
      ]
     },
     "metadata": {
      "needs_background": "light"
     },
     "output_type": "display_data"
    },
    {
     "name": "stdout",
     "output_type": "stream",
     "text": [
      "year\n",
      "1979-12-31    201.0\n",
      "1980-12-31    115.0\n",
      "1981-12-31    125.0\n",
      "1982-12-31    139.0\n",
      "1983-12-31    259.0\n",
      "1984-12-31    238.0\n",
      "1985-12-31    120.0\n",
      "1986-12-31    305.0\n",
      "1987-12-31    289.0\n",
      "1988-12-31     85.0\n",
      "1989-12-31    151.0\n",
      "1990-12-31     25.0\n",
      "1991-12-31    156.0\n",
      "1992-12-31    193.0\n",
      "1993-12-31    113.0\n",
      "1994-12-31    194.0\n",
      "1995-12-31    106.0\n",
      "1996-12-31     23.0\n",
      "1997-12-31    108.0\n",
      "1998-12-31    113.0\n",
      "1999-12-31     96.0\n",
      "2000-12-31    106.0\n",
      "2001-12-31   -108.0\n",
      "2002-12-31     71.0\n",
      "2003-12-31    119.0\n",
      "2004-12-31    213.0\n",
      "2005-12-31    156.0\n",
      "2006-12-31    169.0\n",
      "2007-12-31    183.0\n",
      "2008-12-31    109.0\n",
      "2009-12-31   -124.0\n",
      "2010-12-31    214.0\n",
      "2011-12-31    216.0\n",
      "2012-12-31    151.0\n",
      "2013-12-31    107.0\n",
      "2014-12-31    112.0\n",
      "2015-12-31    119.0\n",
      "2016-12-31     69.0\n",
      "2017-12-31     85.0\n",
      "Name: 就業者, dtype: float64 \n",
      " Test Statistic                 -5.028791\n",
      "p-value                         0.000019\n",
      "#Lags Used                      0.000000\n",
      "Number of Observations Used    38.000000\n",
      "Critical Value (1%)            -3.615509\n",
      "Critical Value (5%)            -2.941262\n",
      "Critical Value (10%)           -2.609200\n",
      "dtype: float64\n"
     ]
    }
   ],
   "source": [
    "#對資料做一階差分\n",
    "\n",
    "data_diff1 = Y.diff()\n",
    "# 差分後需要排空\n",
    "data_diff1 = data_diff1.dropna()\n",
    "data_diff1.plot()\n",
    "plt.show()\n",
    "\n",
    "print(data_diff1, '\\n', testStationarity(data_diff1))"
   ]
  },
  {
   "cell_type": "code",
   "execution_count": 21,
   "metadata": {},
   "outputs": [
    {
     "name": "stderr",
     "output_type": "stream",
     "text": [
      "C:\\ProgramData\\Anaconda3\\lib\\site-packages\\matplotlib\\figure.py:457: UserWarning: matplotlib is currently using a non-GUI backend, so cannot show the figure\n",
      "  \"matplotlib is currently using a non-GUI backend, \"\n",
      "C:\\ProgramData\\Anaconda3\\lib\\site-packages\\statsmodels\\regression\\linear_model.py:1283: RuntimeWarning: invalid value encountered in sqrt\n",
      "  return rho, np.sqrt(sigmasq)\n",
      "C:\\ProgramData\\Anaconda3\\lib\\site-packages\\matplotlib\\figure.py:457: UserWarning: matplotlib is currently using a non-GUI backend, so cannot show the figure\n",
      "  \"matplotlib is currently using a non-GUI backend, \"\n"
     ]
    },
    {
     "data": {
      "image/png": "[encoded data removed]",
      "text/plain": [
       "<Figure size 432x288 with 1 Axes>"
      ]
     },
     "metadata": {
      "needs_background": "light"
     },
     "output_type": "display_data"
    },
    {
     "data": {
      "image/png": "[encoded data removed]",
      "text/plain": [
       "<Figure size 432x288 with 1 Axes>"
      ]
     },
     "metadata": {
      "needs_background": "light"
     },
     "output_type": "display_data"
    }
   ],
   "source": [
    "#畫出Y的1階差分的自我相關與偏相關\n",
    "plot_acf(data_diff1).show()\n",
    "plot_pacf(data_diff1).show()"
   ]
  },
  {
   "cell_type": "code",
   "execution_count": 10,
   "metadata": {},
   "outputs": [
    {
     "data": {
      "image/png": "[encoded data removed]",
      "text/plain": [
       "<Figure size 432x288 with 1 Axes>"
      ]
     },
     "metadata": {
      "needs_background": "light"
     },
     "output_type": "display_data"
    },
    {
     "name": "stdout",
     "output_type": "stream",
     "text": [
      "year\n",
      "1980-12-31    316.0\n",
      "1981-12-31    240.0\n",
      "1982-12-31    264.0\n",
      "1983-12-31    398.0\n",
      "1984-12-31    497.0\n",
      "1985-12-31    358.0\n",
      "1986-12-31    425.0\n",
      "1987-12-31    594.0\n",
      "1988-12-31    374.0\n",
      "1989-12-31    236.0\n",
      "1990-12-31    176.0\n",
      "1991-12-31    181.0\n",
      "1992-12-31    349.0\n",
      "1993-12-31    306.0\n",
      "1994-12-31    307.0\n",
      "1995-12-31    300.0\n",
      "1996-12-31    129.0\n",
      "1997-12-31    131.0\n",
      "1998-12-31    221.0\n",
      "1999-12-31    209.0\n",
      "2000-12-31    202.0\n",
      "2001-12-31     -2.0\n",
      "2002-12-31    -37.0\n",
      "2003-12-31    190.0\n",
      "2004-12-31    332.0\n",
      "2005-12-31    369.0\n",
      "2006-12-31    325.0\n",
      "2007-12-31    352.0\n",
      "2008-12-31    292.0\n",
      "2009-12-31    -15.0\n",
      "2010-12-31     90.0\n",
      "2011-12-31    430.0\n",
      "2012-12-31    367.0\n",
      "2013-12-31    258.0\n",
      "2014-12-31    219.0\n",
      "2015-12-31    231.0\n",
      "2016-12-31    188.0\n",
      "2017-12-31    154.0\n",
      "Name: 就業者, dtype: float64 \n",
      " Test Statistic                 -2.897927\n",
      "p-value                         0.045590\n",
      "#Lags Used                      7.000000\n",
      "Number of Observations Used    30.000000\n",
      "Critical Value (1%)            -3.669920\n",
      "Critical Value (5%)            -2.964071\n",
      "Critical Value (10%)           -2.621171\n",
      "dtype: float64\n"
     ]
    }
   ],
   "source": [
    "#對資料做二階差分\n",
    "data_diff2 = Y.diff(2)\n",
    "\n",
    "# 差分後需要排空\n",
    "data_diff2 = data_diff2.dropna()\n",
    "data_diff2.plot()\n",
    "plt.show()\n",
    "\n",
    "print(data_diff2, '\\n', testStationarity(data_diff2))"
   ]
  },
  {
   "cell_type": "code",
   "execution_count": 11,
   "metadata": {},
   "outputs": [],
   "source": [
    "# Define the p, d and q parameters to take any value between 0 and 3\n",
    "p = d = q = range(0, 3)\n",
    "pdq = list(itertools.product(p, d, q))"
   ]
  },
  {
   "cell_type": "code",
   "execution_count": 12,
   "metadata": {},
   "outputs": [
    {
     "name": "stdout",
     "output_type": "stream",
     "text": [
      "ARIMA(0, 0, 0) - Results:700.6970708682129\n",
      "ARIMA(0, 0, 1) - Results:654.4420683588561\n",
      "ARIMA(0, 1, 0) - Results:461.69956939453397\n"
     ]
    },
    {
     "name": "stderr",
     "output_type": "stream",
     "text": [
      "C:\\ProgramData\\Anaconda3\\lib\\site-packages\\scipy\\signal\\signaltools.py:1341: FutureWarning: Using a non-tuple sequence for multidimensional indexing is deprecated; use `arr[tuple(seq)]` instead of `arr[seq]`. In the future this will be interpreted as an array index, `arr[np.array(seq)]`, which will result either in an error or a different result.\n",
      "  out_full[ind] += zi\n",
      "C:\\ProgramData\\Anaconda3\\lib\\site-packages\\scipy\\signal\\signaltools.py:1344: FutureWarning: Using a non-tuple sequence for multidimensional indexing is deprecated; use `arr[tuple(seq)]` instead of `arr[seq]`. In the future this will be interpreted as an array index, `arr[np.array(seq)]`, which will result either in an error or a different result.\n",
      "  out = out_full[ind]\n",
      "C:\\ProgramData\\Anaconda3\\lib\\site-packages\\scipy\\signal\\signaltools.py:1350: FutureWarning: Using a non-tuple sequence for multidimensional indexing is deprecated; use `arr[tuple(seq)]` instead of `arr[seq]`. In the future this will be interpreted as an array index, `arr[np.array(seq)]`, which will result either in an error or a different result.\n",
      "  zf = out_full[ind]\n",
      "C:\\ProgramData\\Anaconda3\\lib\\site-packages\\statsmodels\\base\\model.py:488: HessianInversionWarning: Inverting hessian failed, no bse or cov_params available\n",
      "  'available', HessianInversionWarning)\n"
     ]
    },
    {
     "name": "stdout",
     "output_type": "stream",
     "text": [
      "ARIMA(0, 1, 1) - Results:462.2162553626489\n",
      "ARIMA(0, 1, 2) - Results:464.02385108827696\n",
      "ARIMA(0, 2, 0) - Results:469.23993560035024\n",
      "ARIMA(0, 2, 1) - Results:453.45753861806435\n",
      "ARIMA(0, 2, 2) - Results:454.4299040440105\n",
      "ARIMA(1, 0, 0) - Results:529.3930771768446\n",
      "ARIMA(1, 0, 1) - Results:513.2716019022482\n",
      "ARIMA(1, 0, 2) - Results:510.7544414936231\n",
      "ARIMA(1, 1, 0) - Results:462.4442923387285\n",
      "ARIMA(1, 1, 1) - Results:463.9711859391199\n",
      "ARIMA(1, 2, 0) - Results:466.15827967088364\n",
      "ARIMA(1, 2, 2) - Results:456.05631296000536\n",
      "ARIMA(2, 0, 0) - Results:501.91722699257434\n"
     ]
    },
    {
     "name": "stderr",
     "output_type": "stream",
     "text": [
      "C:\\ProgramData\\Anaconda3\\lib\\site-packages\\statsmodels\\base\\model.py:488: HessianInversionWarning: Inverting hessian failed, no bse or cov_params available\n",
      "  'available', HessianInversionWarning)\n"
     ]
    },
    {
     "name": "stdout",
     "output_type": "stream",
     "text": [
      "ARIMA(2, 1, 0) - Results:464.16324643637347\n",
      "ARIMA(2, 1, 1) - Results:465.97116668029355\n",
      "ARIMA(2, 2, 0) - Results:463.14270205923856\n"
     ]
    },
    {
     "name": "stderr",
     "output_type": "stream",
     "text": [
      "C:\\ProgramData\\Anaconda3\\lib\\site-packages\\statsmodels\\tsa\\tsatools.py:607: RuntimeWarning: invalid value encountered in true_divide\n",
      "  (1+np.exp(-params))).copy()\n",
      "C:\\ProgramData\\Anaconda3\\lib\\site-packages\\statsmodels\\tsa\\tsatools.py:609: RuntimeWarning: invalid value encountered in true_divide\n",
      "  (1+np.exp(-params))).copy()\n"
     ]
    },
    {
     "name": "stdout",
     "output_type": "stream",
     "text": [
      "ARIMA(2, 2, 1) - Results:456.1071655404521\n",
      "ARIMA(2, 2, 2) - Results:458.01422313264845\n"
     ]
    }
   ],
   "source": [
    "#尋找最適ARIMA模型\n",
    "for param in pdq:\n",
    "    try:\n",
    "            mod = ARIMA(Y,\n",
    "                        order=param,\n",
    "                        freq='A-DEC')\n",
    "                                          \n",
    "            results = mod.fit()\n",
    "            print('ARIMA{} - Results:{}'.format(param, results.aic))\n",
    "    except:\n",
    "            continue"
   ]
  },
  {
   "cell_type": "code",
   "execution_count": 13,
   "metadata": {
    "scrolled": true
   },
   "outputs": [
    {
     "name": "stdout",
     "output_type": "stream",
     "text": [
      "================================================================================\n",
      "                   coef    std err          z      P>|z|      [0.025      0.975]\n",
      "--------------------------------------------------------------------------------\n",
      "const           -2.1459      1.183     -1.814      0.078      -4.464       0.172\n",
      "ma.L1.D2.就業者    -1.0000      0.094    -10.684      0.000      -1.183      -0.817\n",
      "================================================================================\n"
     ]
    },
    {
     "name": "stderr",
     "output_type": "stream",
     "text": [
      "C:\\ProgramData\\Anaconda3\\lib\\site-packages\\statsmodels\\tsa\\base\\tsa_model.py:171: ValueWarning: No frequency information was provided, so inferred frequency A-DEC will be used.\n",
      "  % freq, ValueWarning)\n",
      "C:\\ProgramData\\Anaconda3\\lib\\site-packages\\statsmodels\\tsa\\base\\tsa_model.py:171: ValueWarning: No frequency information was provided, so inferred frequency A-DEC will be used.\n",
      "  % freq, ValueWarning)\n"
     ]
    }
   ],
   "source": [
    "#ARIMA模型結果輸出\n",
    "mod =ARIMA(Y,order=(0, 2, 1))\n",
    "results = mod.fit()\n",
    "print(results.summary().tables[1])"
   ]
  },
  {
   "cell_type": "code",
   "execution_count": 14,
   "metadata": {},
   "outputs": [
    {
     "name": "stdout",
     "output_type": "stream",
     "text": [
      "1980-12-31     -2.145949\n",
      "1981-12-31     39.781077\n",
      "1982-12-31     17.708102\n",
      "1983-12-31      0.635128\n",
      "1984-12-31    -97.637846\n",
      "1985-12-31    -66.010821\n",
      "1986-12-31     42.416205\n",
      "1987-12-31   -126.906770\n",
      "1988-12-31   -100.729744\n",
      "1989-12-31     90.797282\n",
      "1990-12-31     20.397035\n",
      "1991-12-31    132.051333\n",
      "1992-12-31     -1.175488\n",
      "1993-12-31    -37.594616\n",
      "1994-12-31     37.432410\n",
      "1995-12-31    -42.990565\n",
      "1996-12-31     40.215873\n",
      "1997-12-31    114.224598\n",
      "1998-12-31     25.540512\n",
      "1999-12-31     17.367538\n",
      "2000-12-31     30.585040\n",
      "2001-12-31     17.503407\n",
      "2002-12-31    219.292093\n",
      "2003-12-31     36.467307\n",
      "2004-12-31    -13.217334\n",
      "2005-12-31   -105.239539\n",
      "2006-12-31    -48.598838\n",
      "2007-12-31    -61.544829\n",
      "2008-12-31    -75.085783\n",
      "2009-12-31     -3.195539\n",
      "2010-12-31    220.245465\n",
      "2011-12-31   -116.220655\n",
      "2012-12-31   -116.784160\n",
      "2013-12-31    -52.407045\n",
      "2014-12-31    -10.312792\n",
      "2015-12-31    -17.033386\n",
      "2016-12-31    -25.529784\n",
      "2017-12-31     21.680315\n",
      "Freq: A-DEC, dtype: float64\n"
     ]
    },
    {
     "data": {
      "image/png": "[encoded data removed]",
      "text/plain": [
       "<Figure size 432x288 with 1 Axes>"
      ]
     },
     "metadata": {
      "needs_background": "light"
     },
     "output_type": "display_data"
    }
   ],
   "source": [
    "#樣本內預測結果\n",
    "predict_diff2 = results.predict() # predict 2st difference result\n",
    "predict_diff2.plot(color = 'green')\n",
    "print(predict_diff2)"
   ]
  },
  {
   "cell_type": "code",
   "execution_count": 15,
   "metadata": {},
   "outputs": [
    {
     "data": {
      "text/plain": [
       "1980-12-31     6630.854051\n",
       "1981-12-31     6701.781077\n",
       "1982-12-31     6814.708102\n",
       "1983-12-31     6950.635128\n",
       "1984-12-31     7231.362154\n",
       "1985-12-31     7479.989179\n",
       "1986-12-31     7590.416205\n",
       "1987-12-31     7911.093230\n",
       "1988-12-31     8210.270256\n",
       "1989-12-31     8282.797282\n",
       "1990-12-31     8429.397035\n",
       "1991-12-31     8440.051333\n",
       "1992-12-31     8593.824512\n",
       "1993-12-31     8787.405384\n",
       "1994-12-31     8895.432410\n",
       "1995-12-31     9090.009435\n",
       "1996-12-31     9191.215873\n",
       "1997-12-31     9205.224598\n",
       "1998-12-31     9309.540512\n",
       "1999-12-31     9419.367538\n",
       "2000-12-31     9511.585040\n",
       "2001-12-31     9614.503407\n",
       "2002-12-31     9494.292093\n",
       "2003-12-31     9561.467307\n",
       "2004-12-31     9678.782666\n",
       "2005-12-31     9893.760461\n",
       "2006-12-31    10049.401162\n",
       "2007-12-31    10218.455171\n",
       "2008-12-31    10401.914217\n",
       "2009-12-31    10508.804461\n",
       "2010-12-31    10375.245465\n",
       "2011-12-31    10590.779345\n",
       "2012-12-31    10808.215840\n",
       "2013-12-31    10958.592955\n",
       "2014-12-31    11063.687208\n",
       "2015-12-31    11173.966614\n",
       "2016-12-31    11291.470216\n",
       "2017-12-31    11357.680315\n",
       "Freq: A-DEC, dtype: float64"
      ]
     },
     "execution_count": 15,
     "metadata": {},
     "output_type": "execute_result"
    }
   ],
   "source": [
    "#樣本內預測_直接計算預測值\n",
    "predtest = results.predict(, typ='levels')"
   ]
  },
  {
   "cell_type": "code",
   "execution_count": 16,
   "metadata": {},
   "outputs": [],
   "source": [
    "#預測1980-2050年\n",
    "pred = results.predict('19801231', '20501231', typ='levels') \n",
    "#typ=levels意思為預測結果直接帶入原始值計算；liner的意思為直接輸出ARIMA(Y)的預測結果"
   ]
  },
  {
   "cell_type": "code",
   "execution_count": 17,
   "metadata": {},
   "outputs": [
    {
     "name": "stdout",
     "output_type": "stream",
     "text": [
      "总共耗时：2.9727725982666016s\n"
     ]
    }
   ],
   "source": [
    "#計算成長率\n",
    "gr= pred.shift(-1)/pred\n",
    "\n",
    "#因為第一年沒有成長率，故將成長率結果下移，並把第一格成長率設為0\n",
    "gr = gr-1\n",
    "gr[1:71] = gr[0:70]\n",
    "gr[0]=0"
   ]
  },
  {
   "cell_type": "code",
   "execution_count": null,
   "metadata": {},
   "outputs": [],
   "source": [
    "#整理資料成DATAFRAME，輸出至EXCEL\n",
    "output ={'預測值':pred, '成長率':gr}\n",
    "output= pd.DataFrame(output)\n",
    "output\n",
    "output.to_excel('output.xlsx')"
   ]
  },
  {
   "cell_type": "code",
   "execution_count": null,
   "metadata": {},
   "outputs": [],
   "source": [
    "#計算耗時\n",
    "time2=time.time()\n",
    "print('總共耗時：' + str(time2 - time1) + 's')"
   ]
  }
 ],
 "metadata": {
  "kernelspec": {
   "display_name": "Python 3",
   "language": "python",
   "name": "python3"
  },
  "language_info": {
   "codemirror_mode": {
    "name": "ipython",
    "version": 3
   },
   "file_extension": ".py",
   "mimetype": "text/x-python",
   "name": "python",
   "nbconvert_exporter": "python",
   "pygments_lexer": "ipython3",
   "version": "3.7.0"
  }
 },
 "nbformat": 4,
 "nbformat_minor": 2
}
